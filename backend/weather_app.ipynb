{
 "cells": [
  {
   "cell_type": "code",
   "execution_count": 1,
   "metadata": {},
   "outputs": [
    {
     "name": "stdout",
     "output_type": "stream",
     "text": [
      "Requirement already satisfied: flask_ngrok in c:\\users\\alira\\anaconda3\\lib\\site-packages (0.0.25)\n",
      "Requirement already satisfied: requests in c:\\users\\alira\\anaconda3\\lib\\site-packages (from flask_ngrok) (2.22.0)\n",
      "Requirement already satisfied: Flask>=0.8 in c:\\users\\alira\\anaconda3\\lib\\site-packages (from flask_ngrok) (1.1.1)\n",
      "Requirement already satisfied: idna<2.9,>=2.5 in c:\\users\\alira\\anaconda3\\lib\\site-packages (from requests->flask_ngrok) (2.8)\n",
      "Requirement already satisfied: urllib3!=1.25.0,!=1.25.1,<1.26,>=1.21.1 in c:\\users\\alira\\anaconda3\\lib\\site-packages (from requests->flask_ngrok) (1.24.2)\n",
      "Requirement already satisfied: certifi>=2017.4.17 in c:\\users\\alira\\anaconda3\\lib\\site-packages (from requests->flask_ngrok) (2019.6.16)\n",
      "Requirement already satisfied: chardet<3.1.0,>=3.0.2 in c:\\users\\alira\\anaconda3\\lib\\site-packages (from requests->flask_ngrok) (3.0.4)\n",
      "Requirement already satisfied: click>=5.1 in c:\\users\\alira\\anaconda3\\lib\\site-packages (from Flask>=0.8->flask_ngrok) (7.0)\n",
      "Requirement already satisfied: Werkzeug>=0.15 in c:\\users\\alira\\anaconda3\\lib\\site-packages (from Flask>=0.8->flask_ngrok) (0.15.4)\n",
      "Requirement already satisfied: Jinja2>=2.10.1 in c:\\users\\alira\\anaconda3\\lib\\site-packages (from Flask>=0.8->flask_ngrok) (2.10.1)\n",
      "Requirement already satisfied: itsdangerous>=0.24 in c:\\users\\alira\\anaconda3\\lib\\site-packages (from Flask>=0.8->flask_ngrok) (1.1.0)\n",
      "Requirement already satisfied: MarkupSafe>=0.23 in c:\\users\\alira\\anaconda3\\lib\\site-packages (from Jinja2>=2.10.1->Flask>=0.8->flask_ngrok) (1.1.1)\n"
     ]
    },
    {
     "name": "stderr",
     "output_type": "stream",
     "text": [
      "WARNING: You are using pip version 19.3.1; however, version 20.3.3 is available.\n",
      "You should consider upgrading via the 'python -m pip install --upgrade pip' command.\n"
     ]
    }
   ],
   "source": [
    "!pip install flask_ngrok"
   ]
  },
  {
   "cell_type": "code",
   "execution_count": 2,
   "metadata": {},
   "outputs": [
    {
     "name": "stdout",
     "output_type": "stream",
     "text": [
      "Requirement already satisfied: sklearn in c:\\users\\alira\\anaconda3\\lib\\site-packages (0.0)\n",
      "Requirement already satisfied: scikit-learn in c:\\users\\alira\\anaconda3\\lib\\site-packages (from sklearn) (0.24.0)\n",
      "Requirement already satisfied: numpy>=1.13.3 in c:\\users\\alira\\anaconda3\\lib\\site-packages (from scikit-learn->sklearn) (1.19.5)\n",
      "Requirement already satisfied: scipy>=0.19.1 in c:\\users\\alira\\anaconda3\\lib\\site-packages (from scikit-learn->sklearn) (1.2.1)\n",
      "Requirement already satisfied: joblib>=0.11 in c:\\users\\alira\\anaconda3\\lib\\site-packages (from scikit-learn->sklearn) (0.13.2)\n",
      "Requirement already satisfied: threadpoolctl>=2.0.0 in c:\\users\\alira\\anaconda3\\lib\\site-packages (from scikit-learn->sklearn) (2.1.0)\n"
     ]
    },
    {
     "name": "stderr",
     "output_type": "stream",
     "text": [
      "WARNING: You are using pip version 19.3.1; however, version 20.3.3 is available.\n",
      "You should consider upgrading via the 'python -m pip install --upgrade pip' command.\n"
     ]
    }
   ],
   "source": [
    "!pip install sklearn"
   ]
  },
  {
   "cell_type": "code",
   "execution_count": 3,
   "metadata": {},
   "outputs": [],
   "source": [
    "import pandas as pd\n",
    "import matplotlib.pyplot as plt\n",
    "from sklearn import metrics\n",
    "from sklearn.neighbors import KNeighborsClassifier\n",
    "from sklearn.linear_model import LogisticRegression\n",
    "from sklearn.model_selection import train_test_split\n",
    "import pickle\n",
    "import requests"
   ]
  },
  {
   "cell_type": "code",
   "execution_count": null,
   "metadata": {},
   "outputs": [
    {
     "name": "stdout",
     "output_type": "stream",
     "text": [
      " * Serving Flask app \"__main__\" (lazy loading)\n",
      " * Environment: production\n",
      "   WARNING: This is a development server. Do not use it in a production deployment.\n",
      "   Use a production WSGI server instead.\n",
      " * Debug mode: off\n"
     ]
    },
    {
     "name": "stderr",
     "output_type": "stream",
     "text": [
      " * Running on http://127.0.0.1:5000/ (Press CTRL+C to quit)\n",
      "127.0.0.1 - - [10/Jan/2021 02:42:07] \"\u001b[37mGET /weather HTTP/1.1\u001b[0m\" 200 -\n"
     ]
    }
   ],
   "source": [
    "import os\n",
    "from flask import Flask, request,jsonify\n",
    "import pandas as pd\n",
    "import requests\n",
    "from flask_ngrok import run_with_ngrok\n",
    "import sklearn\n",
    "\n",
    "import pandas as pd\n",
    "import matplotlib.pyplot as plt\n",
    "from sklearn import metrics\n",
    "from sklearn.neighbors import KNeighborsClassifier\n",
    "from sklearn.linear_model import LogisticRegression\n",
    "from sklearn.model_selection import train_test_split\n",
    "import pickle\n",
    "import requests\n",
    "\n",
    "\n",
    "app = Flask(__name__)\n",
    "# run_with_ngrok(app)\n",
    "# os.environ[\"GOOGLE_APPLICATION_CREDENTIALS\"]=\"hackwestern-296303-1a10456e3ecc.json\"\n",
    "params = {\n",
    "    'access_key': '3789340d5263ca80c40bd062e28e8bad',\n",
    "    'query': 'Dubai'\n",
    "}\n",
    "@app.route('/')\n",
    "def home():\n",
    "    return \"hello!\"\n",
    "@app.route('/weather',methods=['GET'])\n",
    "def weather():\n",
    "    api_result = requests.get('http://api.weatherstack.com/current', params)\n",
    "\n",
    "    api_response = api_result.json()\n",
    "\n",
    "    place = api_response['location']['name']\n",
    "    temp = api_response['current']['temperature']\n",
    "    precip_rain = api_response['current']['precip']\n",
    "    precip_snow = 0\n",
    "    wind = api_response['current']['wind_speed']\n",
    "    weather = \"sunny\"\n",
    "\n",
    "    # weather is given in a weird code\n",
    "    weatherCode = api_response['current']['weather_code']\n",
    "    # less than 113 is sunny\n",
    "    if (weatherCode <= 113):\n",
    "        weather = \"sunny\"\n",
    "    # between 113 and 143 is cloudy\n",
    "    elif (weatherCode <= 143):\n",
    "        weather = \"cloudy\"\n",
    "    # between 122 and 230 is snowing\n",
    "    elif (weatherCode < 230):\n",
    "        weather = \"snow\"\n",
    "    # between 230 and 326\n",
    "    elif (weatherCode < 326):\n",
    "        weather = \"rain\"\n",
    "    # everything above 326 is snow again\n",
    "    else:\n",
    "        weather = \"snow\"\n",
    "    # set the precipitation to either snow or rain\n",
    "    # default set to rain, but if its snowing then swap\n",
    "    if (weather == \"snow\"):\n",
    "        precip_snow = precip_rain\n",
    "        precip_rain = 0\n",
    "    import csv\n",
    "    csv_columns = ['Wind Speed','average temperature','precipitation','snow fall']\n",
    "    dict_data = [\n",
    "        {'Wind Speed':wind, 'average temperature': temp, 'precipitation': precip_rain,'snow fall':25}\n",
    "    ]\n",
    "    csv_file = \"Names.csv\"\n",
    "    try:\n",
    "        with open(csv_file, 'w') as csvfile:\n",
    "            writer = csv.DictWriter(csvfile, fieldnames=csv_columns)\n",
    "            writer.writeheader()\n",
    "            for data in dict_data:\n",
    "                writer.writerow(data)\n",
    "    except IOError:\n",
    "        print(\"I/O error\")\n",
    "    data = pd.read_csv(\"Names.csv\")\n",
    "    model= pickle.load(open('model.sav', 'rb'))\n",
    "    output = model.predict(data)\n",
    "    out= output.tolist()\n",
    "    Temp_item = [[\"Shorts\", \"Tanktops\", \"T-shirts\"], [\"Shorts\", \"Tanktops\", \"T-shirts\"],\n",
    "                 [\"Jeans\", \"T-shirts\", \"Sweatpants\", \"Full sleeved shirts\"],\n",
    "                 [\"Hoodies\", \"Sweaters\", \"Light jackets\"], [\"Hoodies\", \"Sweaters\", \"Light jackets\"],\n",
    "                 [\"Light jackets\", \"Wind breakers\"],\n",
    "                 [\"Coats\", \"Jackets\"], [\"Winter jackets\", \"Toques\"], [\"Winter jackets\", \"Toques\", \"Scarfs\"],\n",
    "                 [\"Winter jackets\", \"Toques\", \"Scarfs\", \"Gloves\"]]\n",
    "    Rain_item = [[\"\"],[\"Umbrella\"], [\"Umbrella\", \"Raincoat\", \"Waterproof boots/shoes\"], [\"Snow boots\"],\n",
    "                 [\"Snow boots\", \"Snow pants\", \"Earmufs\"]]\n",
    "    wet =int((out[0]-out[0]%10)/10)\n",
    "    warmth = (out[0]%10)\n",
    "    rain = \"there is no rain, \"\n",
    "    heat =\"it is freezing outside \"\n",
    "    if warmth <2:\n",
    "        heat= \"It is very hot outside \"\n",
    "    elif warmth <4:\n",
    "        heat = \"It is fairly warm outside \"\n",
    "    elif warmth <6:\n",
    "        heat =\"It is fairly moderate outside \"\n",
    "    elif warmth <8:\n",
    "        heat = \"It is cold outside \"\n",
    "    if wet ==1:\n",
    "        rain= \"there is light rain, \"\n",
    "    elif wet ==2:\n",
    "        rain= \"there is heavy rain, \"\n",
    "    elif wet ==3:\n",
    "        rain= \"there is light snow, \"\n",
    "    elif wet ==4:\n",
    "        rain= \"there is heavy snow, \"\n",
    "#     sending = heat + \"and \" + rain + \"here are some recomendations: \"\n",
    "    sending = {\"warmth\":heat, \"wetness\":rain, \"clothing\":{}}\n",
    "    for i in range(len(Temp_item[warmth])):\n",
    "        if (i !=(len(Temp_item[warmth])-1)):\n",
    "            sending[\"clothing\"][\"warm1\"] = Temp_item[warmth][i]\n",
    "        else:\n",
    "            sending[\"clothing\"][\"warm2\"] = Temp_item[warmth][i]\n",
    "    for j in range(len(Rain_item[wet])):\n",
    "        if (j !=(len(Rain_item[wet])-1)):\n",
    "            sending[\"clothing\"][\"prep1\"] = Rain_item[wet][j]\n",
    "        else:\n",
    "            sending[\"clothing\"][\"prep2\"] = Rain_item[wet][j]\n",
    "    return jsonify(sending)\n",
    "#     return heat\n",
    "\n",
    "if __name__ == '__main__':\n",
    "    app.run()\n"
   ]
  },
  {
   "cell_type": "code",
   "execution_count": null,
   "metadata": {},
   "outputs": [],
   "source": []
  },
  {
   "cell_type": "code",
   "execution_count": null,
   "metadata": {},
   "outputs": [],
   "source": []
  },
  {
   "cell_type": "code",
   "execution_count": null,
   "metadata": {},
   "outputs": [],
   "source": []
  },
  {
   "cell_type": "code",
   "execution_count": null,
   "metadata": {},
   "outputs": [],
   "source": []
  }
 ],
 "metadata": {
  "kernelspec": {
   "display_name": "Python 3",
   "language": "python",
   "name": "python3"
  },
  "language_info": {
   "codemirror_mode": {
    "name": "ipython",
    "version": 3
   },
   "file_extension": ".py",
   "mimetype": "text/x-python",
   "name": "python",
   "nbconvert_exporter": "python",
   "pygments_lexer": "ipython3",
   "version": "3.7.3"
  }
 },
 "nbformat": 4,
 "nbformat_minor": 2
}
