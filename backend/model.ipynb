{
 "cells": [
  {
   "cell_type": "code",
   "execution_count": null,
   "metadata": {},
   "outputs": [],
   "source": [
    "!pip install astroid --user"
   ]
  },
  {
   "cell_type": "code",
   "execution_count": null,
   "metadata": {},
   "outputs": [],
   "source": [
    "!pip install tensorflow --user"
   ]
  },
  {
   "cell_type": "code",
   "execution_count": null,
   "metadata": {},
   "outputs": [],
   "source": [
    "from __future__ import absolute_import, division, print_function\n",
    "import tensorflow as tf\n",
    "from tensorflow.keras.models import Sequential\n",
    "from tensorflow.keras.layers import Dense,Dropout,InputLayer\n",
    "import os\n",
    "import pandas as pd\n",
    "import matplotlib.pyplot as plt\n",
    "from sklearn import metrics\n",
    "from sklearn.neighbors import KNeighborsClassifier\n",
    "from sklearn.linear_model import LogisticRegression\n",
    "from sklearn.model_selection import train_test_split\n",
    "import pickle\n",
    "import requests"
   ]
  },
  {
   "cell_type": "code",
   "execution_count": null,
   "metadata": {},
   "outputs": [],
   "source": [
    "data = pd.read_csv(\"C:\\\\Users\\\\Alira\\\\Desktop\\\\Coding Projects\\\\weather_app\\\\datahw.csv\")\n",
    "print (type(data))\n",
    "train, test = train_test_split(data, test_size = 0.2)\n",
    "trainX = train.drop(['rating','wet','label'], axis=1)\n",
    "trainY = train['label']\n",
    "testX = test.drop(['rating','wet','label'], axis=1)\n",
    "testY = test['label']\n",
    "print (trainX.shape)\n",
    "print (trainY.shape)"
   ]
  },
  {
   "cell_type": "code",
   "execution_count": null,
   "metadata": {},
   "outputs": [],
   "source": [
    "k_range = list(range(1,20))\n",
    "scores = []\n",
    "for k in k_range:\n",
    "    knn = KNeighborsClassifier(n_neighbors=k)\n",
    "    knn.fit(trainX, trainY)\n",
    "    y_pred = knn.predict(testX)\n",
    "    scores.append(metrics.accuracy_score(testY, y_pred))\n",
    "plt.plot(k_range, scores)\n",
    "plt.xlabel('Value of k for KNN')\n",
    "plt.ylabel('Accuracy Score')\n",
    "plt.title('Accuracy Scores for Values of k of k-Nearest-Neighbors')\n",
    "plt.show()"
   ]
  },
  {
   "cell_type": "code",
   "execution_count": null,
   "metadata": {},
   "outputs": [],
   "source": [
    "model=KNeighborsClassifier(n_neighbors=1) #this examines 3 neighbours for putting the new data into a class\n",
    "model.fit(trainX,trainY)\n",
    "mymod= LogisticRegression()\n",
    "mymod.fit(trainX,trainY)\n",
    "prediction=model.predict(testX)\n",
    "print('The accuracy of the model is:',metrics.accuracy_score(prediction,testY))\n",
    "print (testX)\n",
    "print (prediction)\n",
    "#model.model.save(\"C:\\\\test_model.h5\")"
   ]
  },
  {
   "cell_type": "code",
   "execution_count": null,
   "metadata": {},
   "outputs": [],
   "source": [
    "data2 =pd.read_csv(\"C:\\\\Users\\\\Dania\\\\Documents\\\\Book2.csv\")\n",
    "a=data2.drop(['rating','wet','label'], axis=1)\n",
    "b = data2['label']\n",
    "prediction=model.predict(a)\n",
    "print('The accuracy of the model is:',metrics.accuracy_score(prediction,b))\n",
    "print (a)\n",
    "print (type(prediction))"
   ]
  },
  {
   "cell_type": "code",
   "execution_count": null,
   "metadata": {},
   "outputs": [],
   "source": [
    "pickle.dump(model, open(\"model.sav\", 'wb'))\n"
   ]
  }
 ],
 "metadata": {
  "kernelspec": {
   "display_name": "Python 3",
   "language": "python",
   "name": "python3"
  },
  "language_info": {
   "codemirror_mode": {
    "name": "ipython",
    "version": 3
   },
   "file_extension": ".py",
   "mimetype": "text/x-python",
   "name": "python",
   "nbconvert_exporter": "python",
   "pygments_lexer": "ipython3",
   "version": "3.7.3"
  }
 },
 "nbformat": 4,
 "nbformat_minor": 2
}
